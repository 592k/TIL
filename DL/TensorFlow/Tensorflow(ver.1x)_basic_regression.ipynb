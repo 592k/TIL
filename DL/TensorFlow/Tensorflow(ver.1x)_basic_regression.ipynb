{
 "cells": [
  {
   "cell_type": "markdown",
   "id": "86f2523e",
   "metadata": {},
   "source": [
    "### TensorFlow basic\n",
    "1) Building a TensorFlow Graph\n",
    "    - function definition  \n",
    "2) Executing the TensorFlow Graph\n",
    "    - function execution"
   ]
  },
  {
   "cell_type": "code",
   "execution_count": 2,
   "id": "e23df966",
   "metadata": {},
   "outputs": [
    {
     "name": "stdout",
     "output_type": "stream",
     "text": [
      "WARNING:tensorflow:From /Users/krc/miniforge3/envs/krc3/lib/python3.8/site-packages/tensorflow/python/compat/v2_compat.py:107: disable_resource_variables (from tensorflow.python.ops.variable_scope) is deprecated and will be removed in a future version.\n",
      "Instructions for updating:\n",
      "non-resource variables are not supported in the long term\n"
     ]
    }
   ],
   "source": [
    "import tensorflow.compat.v1 as tf # ver.1x\n",
    "tf.disable_v2_behavior()"
   ]
  },
  {
   "cell_type": "code",
   "execution_count": 3,
   "id": "ea45ec2f",
   "metadata": {},
   "outputs": [],
   "source": [
    "import numpy as np\n",
    "import pandas as pd"
   ]
  },
  {
   "cell_type": "code",
   "execution_count": 5,
   "id": "5d795fd4",
   "metadata": {},
   "outputs": [
    {
     "name": "stdout",
     "output_type": "stream",
     "text": [
      "Tensor(\"Add_1:0\", shape=(), dtype=int32)\n"
     ]
    }
   ],
   "source": [
    "a = tf.add(3, 5)\n",
    "print(a)"
   ]
  },
  {
   "cell_type": "code",
   "execution_count": 6,
   "id": "4a2b8767",
   "metadata": {},
   "outputs": [
    {
     "name": "stdout",
     "output_type": "stream",
     "text": [
      "8\n"
     ]
    },
    {
     "name": "stderr",
     "output_type": "stream",
     "text": [
      "2022-06-28 09:23:59.923170: W tensorflow/core/platform/profile_utils/cpu_utils.cc:128] Failed to get CPU frequency: 0 Hz\n"
     ]
    }
   ],
   "source": [
    "a = tf.add(3,5)\n",
    "sess = tf.Session() # like : thread\n",
    "print(sess.run(a)) # run : 실행"
   ]
  },
  {
   "cell_type": "code",
   "execution_count": 7,
   "id": "f4338ee5",
   "metadata": {},
   "outputs": [],
   "source": [
    "sess.close() # Session 종료: 사용 후 close"
   ]
  },
  {
   "cell_type": "code",
   "execution_count": 8,
   "id": "6daa4f41",
   "metadata": {},
   "outputs": [
    {
     "name": "stdout",
     "output_type": "stream",
     "text": [
      "8\n"
     ]
    }
   ],
   "source": [
    "a = tf.add(3, 5) # Session close와 동일\n",
    "with tf.Session() as sess:\n",
    "    print(sess.run(a))"
   ]
  },
  {
   "cell_type": "code",
   "execution_count": 9,
   "id": "2f22b6ab",
   "metadata": {},
   "outputs": [],
   "source": [
    "x = 2\n",
    "y = 3\n",
    "op1 = tf.add(x, y)\n",
    "op2 = tf.multiply(x, y)\n",
    "op3 = tf.pow(op2, op1) # 제곱"
   ]
  },
  {
   "cell_type": "code",
   "execution_count": 11,
   "id": "2b7cbfae",
   "metadata": {},
   "outputs": [
    {
     "name": "stdout",
     "output_type": "stream",
     "text": [
      "7776\n"
     ]
    }
   ],
   "source": [
    "with tf.Session() as sess:\n",
    "    op3 = sess.run(op3)\n",
    "    print(op3)"
   ]
  },
  {
   "cell_type": "code",
   "execution_count": null,
   "id": "1a7617a0",
   "metadata": {},
   "outputs": [],
   "source": [
    "'''\n",
    "x = 2\n",
    "y = 3\n",
    "op1 = tf.add(x, y)\n",
    "op2 = tf.multiply(x, y)\n",
    "op3 = tf.pow(op2, op1) # 제곱\n",
    "useless = tf.multiply(x, op1)\n",
    "\n",
    "with tf.Session() as sess:\n",
    "    op3, useless = sess.run([op3, useless])\n",
    "    print(op3, useless)\n",
    "'''"
   ]
  },
  {
   "cell_type": "markdown",
   "id": "f6386eae",
   "metadata": {},
   "source": [
    "### TensorFlow basic - Linear Regression"
   ]
  },
  {
   "cell_type": "code",
   "execution_count": 12,
   "id": "511db864",
   "metadata": {},
   "outputs": [],
   "source": [
    "# Prepare the data\n",
    "import tensorflow.compat.v1 as tf\n",
    "tf.disable_v2_behavior()\n",
    "\n",
    "import pandas as pd\n",
    "import numpy as np\n",
    "import matplotlib.pyplot as plt\n",
    "from sklearn import datasets"
   ]
  },
  {
   "cell_type": "code",
   "execution_count": 13,
   "id": "6a64e5c0",
   "metadata": {},
   "outputs": [
    {
     "name": "stderr",
     "output_type": "stream",
     "text": [
      "/Users/krc/miniforge3/envs/krc3/lib/python3.8/site-packages/sklearn/utils/deprecation.py:87: FutureWarning: Function load_boston is deprecated; `load_boston` is deprecated in 1.0 and will be removed in 1.2.\n",
      "\n",
      "    The Boston housing prices dataset has an ethical problem. You can refer to\n",
      "    the documentation of this function for further details.\n",
      "\n",
      "    The scikit-learn maintainers therefore strongly discourage the use of this\n",
      "    dataset unless the purpose of the code is to study and educate about\n",
      "    ethical issues in data science and machine learning.\n",
      "\n",
      "    In this special case, you can fetch the dataset from the original\n",
      "    source::\n",
      "\n",
      "        import pandas as pd\n",
      "        import numpy as np\n",
      "\n",
      "        data_url = \"http://lib.stat.cmu.edu/datasets/boston\"\n",
      "        raw_df = pd.read_csv(data_url, sep=\"\\s+\", skiprows=22, header=None)\n",
      "        data = np.hstack([raw_df.values[::2, :], raw_df.values[1::2, :2]])\n",
      "        target = raw_df.values[1::2, 2]\n",
      "\n",
      "    Alternative datasets include the California housing dataset (i.e.\n",
      "    :func:`~sklearn.datasets.fetch_california_housing`) and the Ames housing\n",
      "    dataset. You can load the datasets as follows::\n",
      "\n",
      "        from sklearn.datasets import fetch_california_housing\n",
      "        housing = fetch_california_housing()\n",
      "\n",
      "    for the California housing dataset and::\n",
      "\n",
      "        from sklearn.datasets import fetch_openml\n",
      "        housing = fetch_openml(name=\"house_prices\", as_frame=True)\n",
      "\n",
      "    for the Ames housing dataset.\n",
      "  warnings.warn(msg, category=FutureWarning)\n"
     ]
    },
    {
     "data": {
      "text/html": [
       "<div>\n",
       "<style scoped>\n",
       "    .dataframe tbody tr th:only-of-type {\n",
       "        vertical-align: middle;\n",
       "    }\n",
       "\n",
       "    .dataframe tbody tr th {\n",
       "        vertical-align: top;\n",
       "    }\n",
       "\n",
       "    .dataframe thead th {\n",
       "        text-align: right;\n",
       "    }\n",
       "</style>\n",
       "<table border=\"1\" class=\"dataframe\">\n",
       "  <thead>\n",
       "    <tr style=\"text-align: right;\">\n",
       "      <th></th>\n",
       "      <th>0</th>\n",
       "      <th>1</th>\n",
       "    </tr>\n",
       "  </thead>\n",
       "  <tbody>\n",
       "    <tr>\n",
       "      <th>0</th>\n",
       "      <td>4.98</td>\n",
       "      <td>24.0</td>\n",
       "    </tr>\n",
       "    <tr>\n",
       "      <th>1</th>\n",
       "      <td>9.14</td>\n",
       "      <td>21.6</td>\n",
       "    </tr>\n",
       "    <tr>\n",
       "      <th>2</th>\n",
       "      <td>4.03</td>\n",
       "      <td>34.7</td>\n",
       "    </tr>\n",
       "    <tr>\n",
       "      <th>3</th>\n",
       "      <td>2.94</td>\n",
       "      <td>33.4</td>\n",
       "    </tr>\n",
       "    <tr>\n",
       "      <th>4</th>\n",
       "      <td>5.33</td>\n",
       "      <td>36.2</td>\n",
       "    </tr>\n",
       "  </tbody>\n",
       "</table>\n",
       "</div>"
      ],
      "text/plain": [
       "      0     1\n",
       "0  4.98  24.0\n",
       "1  9.14  21.6\n",
       "2  4.03  34.7\n",
       "3  2.94  33.4\n",
       "4  5.33  36.2"
      ]
     },
     "execution_count": 13,
     "metadata": {},
     "output_type": "execute_result"
    }
   ],
   "source": [
    "x_data = datasets.load_boston().data[:,12]\n",
    "y_data = datasets.load_boston().target\n",
    "df = pd.DataFrame([x_data, y_data]).transpose() # transpose 행 -> 열\n",
    "df.head()"
   ]
  },
  {
   "cell_type": "code",
   "execution_count": 16,
   "id": "59dbbd7b",
   "metadata": {},
   "outputs": [],
   "source": [
    "# 2. Build the model\n",
    "w = tf.Variable(tf.random_normal([1])) # parameter theta\n",
    "b = tf.Variable(tf.random_normal([1])) # 1 : scalar 하나\n",
    "\n",
    "# tf.Variable(초기화 방법)\n",
    "# - Parameter theta\n",
    "# - Gradient Descent의 대상\n",
    "# - Learning 의 대상\n",
    "\n",
    "y_predicted = w * x_data + b # : model"
   ]
  },
  {
   "cell_type": "code",
   "execution_count": 17,
   "id": "2385f520",
   "metadata": {},
   "outputs": [],
   "source": [
    "###\n",
    "# 3. Set the criterion : Cost function & Gradient Descent method\n",
    "# 평균제곱오차\n",
    "loss = tf.reduce_mean(tf.square(y_predicted - y_data)) # reduce_mean : 평균\n",
    "optimizer = tf.train.GradientDescentOptimizer(0.001) # full batch (basic form), 10^-3 : learning rate \n",
    "train = optimizer.minimize(loss) # -> run\n",
    "###"
   ]
  },
  {
   "cell_type": "code",
   "execution_count": 18,
   "id": "6dec09ce",
   "metadata": {},
   "outputs": [
    {
     "name": "stdout",
     "output_type": "stream",
     "text": [
      "Step 0: w [-0.02277607] b [-0.634063]\n",
      "loss 632.3831787109375\n",
      "\n",
      "Step 1000: w [0.35349724] b [12.841534]\n",
      "loss 152.19593811035156\n",
      "\n",
      "Step 2000: w [-0.14408587] b [21.129444]\n",
      "loss 81.9527587890625\n",
      "\n",
      "Step 3000: w [-0.45173478] b [26.253748]\n",
      "loss 55.100399017333984\n",
      "\n",
      "Step 4000: w [-0.6419492] b [29.422022]\n",
      "loss 44.835411071777344\n",
      "\n",
      "Step 5000: w [-0.7595556] b [31.380913]\n",
      "loss 40.91135787963867\n",
      "\n",
      "Step 6000: w [-0.8322709] b [32.592083]\n",
      "loss 39.4112663269043\n",
      "\n",
      "Step 7000: w [-0.8772287] b [33.340916]\n",
      "loss 38.837833404541016\n",
      "\n",
      "Step 8000: w [-0.9050244] b [33.803894]\n",
      "loss 38.618621826171875\n",
      "\n",
      "Step 9000: w [-0.92221135] b [34.09016]\n",
      "loss 38.534828186035156\n",
      "\n"
     ]
    }
   ],
   "source": [
    "# 4. Train the model\n",
    "with tf.Session() as sess:\n",
    "    sess.run(tf.global_variables_initializer()) # tf.Variables 초기화\n",
    "    \n",
    "    for step in range(10000): # 10000 : epoch\n",
    "        sess.run(train) # 실제로 Gradient Descent가 실행되는 코드\n",
    "        if step % 1000 == 0:\n",
    "            print('Step {}: w {} b {}'.format(step, sess.run(w), sess.run(b)))\n",
    "            print('loss {}'.format(sess.run(loss)))\n",
    "            print()\n",
    "            \n",
    "    w_out, b_out = sess.run([w, b])"
   ]
  },
  {
   "cell_type": "code",
   "execution_count": 19,
   "id": "00fa7fb1",
   "metadata": {},
   "outputs": [
    {
     "data": {
      "image/png": "[encoded data removed]",
      "text/plain": [
       "<Figure size 720x720 with 1 Axes>"
      ]
     },
     "metadata": {
      "needs_background": "light"
     },
     "output_type": "display_data"
    }
   ],
   "source": [
    "# Visualize the result\n",
    "plt.figure(figsize=(10,10))\n",
    "plt.plot(x_data, y_data, 'bo', label='Real data')\n",
    "plt.plot(x_data, x_data * w_out + b_out, 'ro', label='Prediction')\n",
    "plt.legend()\n",
    "plt.show()"
   ]
  },
  {
   "cell_type": "markdown",
   "id": "f3495912",
   "metadata": {},
   "source": [
    "### Regression with Neural Network"
   ]
  },
  {
   "cell_type": "code",
   "execution_count": 20,
   "id": "6fd05800",
   "metadata": {},
   "outputs": [],
   "source": [
    "# 2. Build the model\n",
    "_x_data = tf.reshape(x_data, [len(x_data), 1]) # [506, ] -> [506, 1]\n",
    "\n",
    "W = tf.Variable(tf.random_normal([1, 5], dtype=tf.float64)) # parameter theta 5 [1, 5]\n",
    "W_out = tf.Variable(tf.random_normal([5, 1], dtype=tf.float64)) # [5, 1] -> [506, 1]\n",
    "\n",
    "hidden = tf.nn.sigmoid(tf.matmul(_x_data, W)) # ReLu, tanh, ...\n",
    "output = tf.matmul(hidden, W_out)"
   ]
  },
  {
   "cell_type": "code",
   "execution_count": 21,
   "id": "cdefa4e2",
   "metadata": {},
   "outputs": [],
   "source": [
    "# 3. Set the criterion : Cost function & Gradient Descent method\n",
    "loss = tf.reduce_mean(tf.square(output - y_data))\n",
    "optimizer = tf.train.GradientDescentOptimizer(0.001)\n",
    "train = optimizer.minimize(loss)"
   ]
  },
  {
   "cell_type": "code",
   "execution_count": 23,
   "id": "c249243f",
   "metadata": {},
   "outputs": [
    {
     "name": "stdout",
     "output_type": "stream",
     "text": [
      "Step 0 || Loss : 615.0728356908929\n",
      "Step 5000 || Loss : 84.44047820747845\n",
      "Step 10000 || Loss : 84.43345968668483\n",
      "Step 15000 || Loss : 84.43009013720511\n",
      "Step 20000 || Loss : 84.4280802115904\n",
      "Step 25000 || Loss : 84.4267348043949\n",
      "Step 30000 || Loss : 84.42576674636557\n",
      "Step 35000 || Loss : 84.42503467679715\n",
      "Step 40000 || Loss : 84.42446052668473\n",
      "Step 45000 || Loss : 84.42399750073663\n"
     ]
    }
   ],
   "source": [
    "# Train the model\n",
    "with tf.Session() as sess:\n",
    "    sess.run(tf.global_variables_initializer()) # tf.Variables 초기화\n",
    "    \n",
    "    for step in range(50000): # 10000 : epoch\n",
    "        sess.run(train) # 실제로 Gradient Descent가 실행되는 코드\n",
    "        if step % 5000 == 0:\n",
    "            print('Step {} || Loss : {}'.format(step, sess.run(loss)))\n",
    "\n",
    "            \n",
    "    output = sess.run(output)"
   ]
  },
  {
   "cell_type": "code",
   "execution_count": 24,
   "id": "2b5e5eee",
   "metadata": {},
   "outputs": [
    {
     "data": {
      "image/png": "[encoded data removed]",
      "text/plain": [
       "<Figure size 720x720 with 1 Axes>"
      ]
     },
     "metadata": {
      "needs_background": "light"
     },
     "output_type": "display_data"
    }
   ],
   "source": [
    "# Visualize the result\n",
    "plt.figure(figsize=(10,10))\n",
    "plt.plot(x_data, y_data, 'bo', label='Real data')\n",
    "plt.plot(x_data, output, 'ro', label='Prediction')\n",
    "plt.legend()\n",
    "plt.show()"
   ]
  },
  {
   "cell_type": "markdown",
   "id": "45bce5f5",
   "metadata": {},
   "source": [
    "hidden layers 1 -> 2  \n",
    "sigmoid -> ReLu"
   ]
  },
  {
   "cell_type": "code",
   "execution_count": 25,
   "id": "337a7b62",
   "metadata": {},
   "outputs": [],
   "source": [
    "# 2. Build the model\n",
    "# hidden layers 1 -> 2\n",
    "_x_data = tf.reshape(x_data, [len(x_data), 1])\n",
    "\n",
    "W1 = tf.Variable(tf.random_normal([1, 5], dtype=tf.float64))\n",
    "W2 = tf.Variable(tf.random_normal([5, 10], dtype=tf.float64)) \n",
    "W_out = tf.Variable(tf.random_normal([10, 1], dtype=tf.float64))\n",
    "\n",
    "hidden1 = tf.nn.elu(tf.matmul(_x_data, W1))\n",
    "hidden2 = tf.nn.elu(tf.matmul(hidden1, W2))\n",
    "output = tf.matmul(hidden2, W_out)"
   ]
  },
  {
   "cell_type": "code",
   "execution_count": 26,
   "id": "85fedea4",
   "metadata": {},
   "outputs": [],
   "source": [
    "# 3. Set the criterion\n",
    "loss = tf.reduce_mean(tf.square(output - y_data))\n",
    "optimizer = tf.train.AdamOptimizer(0.001)\n",
    "train = optimizer.minimize(loss)"
   ]
  },
  {
   "cell_type": "code",
   "execution_count": 27,
   "id": "bb460bd0",
   "metadata": {},
   "outputs": [
    {
     "name": "stdout",
     "output_type": "stream",
     "text": [
      "Step 0 || Loss : 1504.3121561977334\n",
      "Step 5000 || Loss : 84.42907224994663\n",
      "Step 10000 || Loss : 84.41997535658699\n",
      "Step 15000 || Loss : 84.4195882249994\n",
      "Step 20000 || Loss : 84.4195585853536\n",
      "Step 25000 || Loss : 84.41955670091264\n",
      "Step 30000 || Loss : 84.41955986420085\n",
      "Step 35000 || Loss : 84.4195562286193\n",
      "Step 40000 || Loss : 84.41959122811775\n",
      "Step 45000 || Loss : 84.41955620174663\n"
     ]
    }
   ],
   "source": [
    "# Train the model\n",
    "with tf.Session() as sess:\n",
    "    sess.run(tf.global_variables_initializer()) # tf.Variables 초기화\n",
    "    \n",
    "    for step in range(50000): # 10000 : epoch\n",
    "        sess.run(train) # 실제로 Gradient Descent가 실행되는 코드\n",
    "        if step % 5000 == 0:\n",
    "            print('Step {} || Loss : {}'.format(step, sess.run(loss)))\n",
    "\n",
    "            \n",
    "    output = sess.run(output)"
   ]
  },
  {
   "cell_type": "code",
   "execution_count": 28,
   "id": "877c5a38",
   "metadata": {},
   "outputs": [
    {
     "data": {
      "image/png": "[encoded data removed]",
      "text/plain": [
       "<Figure size 720x720 with 1 Axes>"
      ]
     },
     "metadata": {
      "needs_background": "light"
     },
     "output_type": "display_data"
    }
   ],
   "source": [
    "# Visualize the result\n",
    "plt.figure(figsize=(10,10))\n",
    "plt.plot(x_data, y_data, 'bo', label='Real data')\n",
    "plt.plot(x_data, output, 'ro', label='Prediction')\n",
    "plt.legend()\n",
    "plt.show()"
   ]
  },
  {
   "cell_type": "markdown",
   "id": "a109be46",
   "metadata": {},
   "source": [
    "y_data.shpe = (506, )  \n",
    "shape, demention error\n",
    "### Corret!"
   ]
  },
  {
   "cell_type": "code",
   "execution_count": 41,
   "id": "417272ab",
   "metadata": {},
   "outputs": [],
   "source": [
    "# 2. Build the model\n",
    "# hidden layers 1 -> 2\n",
    "_x_data = tf.reshape(x_data, [len(x_data), 1])\n",
    "_y_data = tf.reshape(y_data, [len(y_data), 1])\n",
    "\n",
    "W1 = tf.Variable(tf.random_normal([1, 5], dtype=tf.float64))\n",
    "W2 = tf.Variable(tf.random_normal([5, 10], dtype=tf.float64)) \n",
    "W_out = tf.Variable(tf.random_normal([10, 1], dtype=tf.float64))\n",
    "\n",
    "hidden1 = tf.nn.elu(tf.matmul(_x_data, W1))\n",
    "hidden2 = tf.nn.elu(tf.matmul(hidden1, W2))\n",
    "output = tf.matmul(hidden2, W_out)"
   ]
  },
  {
   "cell_type": "code",
   "execution_count": 42,
   "id": "ed1d5991",
   "metadata": {},
   "outputs": [],
   "source": [
    "# 3. Set the criterion\n",
    "loss = tf.losses.mean_squared_error(output, _y_data) # mean_squared_error\n",
    "optimizer = tf.train.AdamOptimizer(0.001)\n",
    "train = optimizer.minimize(loss)"
   ]
  },
  {
   "cell_type": "code",
   "execution_count": 43,
   "id": "ce2a8733",
   "metadata": {},
   "outputs": [
    {
     "name": "stdout",
     "output_type": "stream",
     "text": [
      "Step 0 || Loss : 441.7461242675781\n",
      "Step 5000 || Loss : 27.869043350219727\n",
      "Step 10000 || Loss : 26.371782302856445\n",
      "Step 15000 || Loss : 26.1778621673584\n",
      "Step 20000 || Loss : 26.169614791870117\n",
      "Step 25000 || Loss : 26.120723724365234\n",
      "Step 30000 || Loss : 26.10965919494629\n",
      "Step 35000 || Loss : 26.1047306060791\n",
      "Step 40000 || Loss : 26.091936111450195\n",
      "Step 45000 || Loss : 26.084922790527344\n"
     ]
    }
   ],
   "source": [
    "# Train the model\n",
    "with tf.Session() as sess:\n",
    "    sess.run(tf.global_variables_initializer()) # tf.Variables 초기화\n",
    "    \n",
    "    for step in range(50000): # 10000 : epoch\n",
    "        sess.run(train) # 실제로 Gradient Descent가 실행되는 코드\n",
    "        if step % 5000 == 0:\n",
    "            print('Step {} || Loss : {}'.format(step, sess.run(loss)))\n",
    "\n",
    "            \n",
    "    output = sess.run(output)"
   ]
  },
  {
   "cell_type": "code",
   "execution_count": 44,
   "id": "72d13edc",
   "metadata": {},
   "outputs": [
    {
     "data": {
      "image/png": "[encoded data removed]",
      "text/plain": [
       "<Figure size 720x720 with 1 Axes>"
      ]
     },
     "metadata": {
      "needs_background": "light"
     },
     "output_type": "display_data"
    }
   ],
   "source": [
    "# Visualize the result\n",
    "plt.figure(figsize=(10,10))\n",
    "plt.plot(x_data, y_data, 'bo', label='Real data')\n",
    "plt.plot(x_data, output, 'ro', label='Prediction')\n",
    "plt.legend()\n",
    "plt.show()"
   ]
  },
  {
   "cell_type": "code",
   "execution_count": null,
   "id": "0c7a6b9a",
   "metadata": {},
   "outputs": [],
   "source": []
  }
 ],
 "metadata": {
  "kernelspec": {
   "display_name": "Python 3 (ipykernel)",
   "language": "python",
   "name": "python3"
  },
  "language_info": {
   "codemirror_mode": {
    "name": "ipython",
    "version": 3
   },
   "file_extension": ".py",
   "mimetype": "text/x-python",
   "name": "python",
   "nbconvert_exporter": "python",
   "pygments_lexer": "ipython3",
   "version": "3.8.13"
  }
 },
 "nbformat": 4,
 "nbformat_minor": 5
}
